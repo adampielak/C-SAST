{
 "cells": [
  {
   "cell_type": "markdown",
   "metadata": {
    "colab_type": "text",
    "id": "UbWoRMZWmqor"
   },
   "source": [
    "Este cuaderno es una PoC para comprobar si se puede clasificar codigo vulnerable.\n",
    "\n",
    "\n",
    "## Datasets:\n",
    "\n",
    "There  are  two  widely  used  sources  ofvulnerability  data  maintained  by  the  NIST:  the  NVD  which  contains  vulnerabilities  in  production  software,  andthe  SARD  project which  contains  production,  synthetic,and  academic  security  flaws  or  vulnerabilities.  In  the  NVD,each  vulnerability  has  a  unique  Common  Vulnerabilities  andExposures  IDentifier  (CVE  ID)  and  a  Common  WeaknessEnumeration  IDentifier  (CWE  ID)  that  indicates  the  type  ofthe  vulnerability  in  question.  We  collect  the  programs  thatcontain  one  or  multiple  vulnerabilities.  In  the  SARD,  eachprogram (i.e., test case) corresponds to one or multiple CWEIDs because a program can have multiple types of vulnerabil-ities. Therefore, programs with one or multiple CWE IDs arecollected.\n",
    "\n",
    "https://nvd.nist.gov/vuln/search\n",
    "\n",
    "https://samate.nist.gov/SARD/search.php \n",
    "\n",
    "\n",
    "## Algorihms\n",
    "\n",
    "Machine  learning  algorithms  cannot  learn  from  raw  text;so  several  steps  of  processing  the  dataset  are  needed  beforetraining  the  algorithm.  First,  the  code  snippets  need  to  beconverted  into  numerical  feature  vectors.  We  used  bag-of-word  model,  a  method  to  represent  each  unique  word  as  afeature. Second, we selected features extracted a subset fromthe dataset and used them for training the machine algorithm.\n",
    "\n",
    "\n",
    "## Papers y articulos basados:\n",
    "\n",
    "https://arxiv.org/pdf/1801.01681.pdf\n",
    "\n",
    "https://arxiv.org/pdf/1803.04497.pdf\n",
    "\n",
    "https://realpython.com/python-keras-text-classification/\n",
    "\n",
    "https://arxiv.org/pdf/1809.07945.pdf\n",
    "\n",
    "https://medium.com/jatana/report-on-text-classification-using-cnn-rnn-han-f0e887214d5f"
   ]
  },
  {
   "cell_type": "code",
   "execution_count": null,
   "metadata": {},
   "outputs": [],
   "source": [
    "import os\n",
    "\n",
    "# Download dataset and move all .java to one folder\n",
    "os.system(\" find . -type f \\( -iname \"*.java\" \\) -exec mv {} all/ \\; \")\n",
    "\n",
    "# Remove comentaries\n",
    "os.system(\" find . \\( -type d -name .git -prune \\) -o -type f -print0 | xargs -0 sed -i 's/[\\/*]//g' \")\n",
    "\n",
    "# Remove imports\n",
    "os.system(\" find . \\( -type d -name .git -prune \\) -o -type f -print0 | xargs -0 sed -i 's/^import//g' \")"
   ]
  },
  {
   "cell_type": "code",
   "execution_count": 51,
   "metadata": {
    "colab": {},
    "colab_type": "code",
    "id": "SLyprCKLmsma"
   },
   "outputs": [
    {
     "name": "stdout",
     "output_type": "stream",
     "text": [
      "[*] 3733 files are importing...\n",
      "code            Licensed to the Apache Software Foundation (...\n",
      "vuln_label                                                    1\n",
      "threat                                                sqli_java\n",
      "Name: 0, dtype: object\n"
     ]
    },
    {
     "data": {
      "text/html": [
       "<div>\n",
       "<style scoped>\n",
       "    .dataframe tbody tr th:only-of-type {\n",
       "        vertical-align: middle;\n",
       "    }\n",
       "\n",
       "    .dataframe tbody tr th {\n",
       "        vertical-align: top;\n",
       "    }\n",
       "\n",
       "    .dataframe thead th {\n",
       "        text-align: right;\n",
       "    }\n",
       "</style>\n",
       "<table border=\"1\" class=\"dataframe\">\n",
       "  <thead>\n",
       "    <tr style=\"text-align: right;\">\n",
       "      <th></th>\n",
       "      <th>code</th>\n",
       "      <th>vuln_label</th>\n",
       "      <th>threat</th>\n",
       "    </tr>\n",
       "  </thead>\n",
       "  <tbody>\n",
       "    <tr>\n",
       "      <td>0</td>\n",
       "      <td>Licensed to the Apache Software Foundation (...</td>\n",
       "      <td>1</td>\n",
       "      <td>sqli_java</td>\n",
       "    </tr>\n",
       "    <tr>\n",
       "      <td>1</td>\n",
       "      <td>or more contributor license agreements.  See...</td>\n",
       "      <td>1</td>\n",
       "      <td>sqli_java</td>\n",
       "    </tr>\n",
       "    <tr>\n",
       "      <td>2</td>\n",
       "      <td>distributed with this work for additional in...</td>\n",
       "      <td>1</td>\n",
       "      <td>sqli_java</td>\n",
       "    </tr>\n",
       "    <tr>\n",
       "      <td>3</td>\n",
       "      <td>regarding copyright ownership.  The ASF lice...</td>\n",
       "      <td>1</td>\n",
       "      <td>sqli_java</td>\n",
       "    </tr>\n",
       "    <tr>\n",
       "      <td>4</td>\n",
       "      <td>to you under the Apache License</td>\n",
       "      <td>1</td>\n",
       "      <td>sqli_java</td>\n",
       "    </tr>\n",
       "    <tr>\n",
       "      <td>5</td>\n",
       "      <td>\"License\"); you may not use this file except...</td>\n",
       "      <td>1</td>\n",
       "      <td>sqli_java</td>\n",
       "    </tr>\n",
       "    <tr>\n",
       "      <td>6</td>\n",
       "      <td>with the License.  You may obtain a copy of ...</td>\n",
       "      <td>1</td>\n",
       "      <td>sqli_java</td>\n",
       "    </tr>\n",
       "    <tr>\n",
       "      <td>7</td>\n",
       "      <td>http:www.apache.orglicensesLICENSE-2.0</td>\n",
       "      <td>1</td>\n",
       "      <td>sqli_java</td>\n",
       "    </tr>\n",
       "    <tr>\n",
       "      <td>8</td>\n",
       "      <td>Unless required by applicable law or agreed ...</td>\n",
       "      <td>1</td>\n",
       "      <td>sqli_java</td>\n",
       "    </tr>\n",
       "    <tr>\n",
       "      <td>9</td>\n",
       "      <td>distributed under the License is distributed...</td>\n",
       "      <td>1</td>\n",
       "      <td>sqli_java</td>\n",
       "    </tr>\n",
       "  </tbody>\n",
       "</table>\n",
       "</div>"
      ],
      "text/plain": [
       "                                                code  vuln_label     threat\n",
       "0    Licensed to the Apache Software Foundation (...           1  sqli_java\n",
       "1    or more contributor license agreements.  See...           1  sqli_java\n",
       "2    distributed with this work for additional in...           1  sqli_java\n",
       "3    regarding copyright ownership.  The ASF lice...           1  sqli_java\n",
       "4                    to you under the Apache License           1  sqli_java\n",
       "5    \"License\"); you may not use this file except...           1  sqli_java\n",
       "6    with the License.  You may obtain a copy of ...           1  sqli_java\n",
       "7             http:www.apache.orglicensesLICENSE-2.0           1  sqli_java\n",
       "8    Unless required by applicable law or agreed ...           1  sqli_java\n",
       "9    distributed under the License is distributed...           1  sqli_java"
      ]
     },
     "execution_count": 51,
     "metadata": {},
     "output_type": "execute_result"
    }
   ],
   "source": [
    "import pandas as pd\n",
    "import os\n",
    "\n",
    "dirlist_sqli_java = os.listdir(\"datasets/sqli_java/\")\n",
    "print(\"[*] \" + str(len(dirlist)) + \" files are importing...\")\n",
    "\n",
    "\n",
    "df_list = []\n",
    "for file in dirlist_sqli_java:\n",
    "    df = pd.read_csv(\"datasets/sqli_java/\"+file, names=['code'])\n",
    "    df['vuln_label'] = 1  # Add another column filled with 1 (vulnerable code)\n",
    "    df['threat'] = 'sqli_java'\n",
    "    df_list.append(df)\n",
    "    \n",
    "for file in dirlist_sqli_java:\n",
    "    df = pd.read_csv(\"datasets/sqli_java/\"+file, names=['code'])\n",
    "    df['vuln_label'] = 0  # Add another column filled with 1 (vulnerable code)\n",
    "    df['threat'] = 'sqli_java'\n",
    "    df_list.append(df)\n",
    "df = pd.concat(df_list)\n",
    "\n",
    "\n",
    "\n",
    "print(df.iloc[0])\n",
    "df.head(10)"
   ]
  },
  {
   "cell_type": "code",
   "execution_count": 52,
   "metadata": {},
   "outputs": [
    {
     "data": {
      "text/plain": [
       "<1324797x13326 sparse matrix of type '<class 'numpy.int64'>'\n",
       "\twith 3113965 stored elements in Compressed Sparse Row format>"
      ]
     },
     "execution_count": 52,
     "metadata": {},
     "output_type": "execute_result"
    }
   ],
   "source": [
    "from sklearn.model_selection import train_test_split\n",
    "\n",
    "df2 = df\n",
    "\n",
    "# Slipt data\n",
    "\n",
    "code = df2['code'].values.astype('str')\n",
    "y = df2['vuln_label'].values\n",
    "\n",
    "code_train, code_test, y_train, y_test = train_test_split(\n",
    "            code, y, test_size=0.25, random_state=1000)\n",
    "\n",
    "\n",
    "# Vectorize\n",
    "from sklearn.feature_extraction.text import CountVectorizer\n",
    "\n",
    "vectorizer = CountVectorizer()\n",
    "vectorizer.fit(code_train)\n",
    "\n",
    "X_train = vectorizer.transform(code_train)\n",
    "X_test  = vectorizer.transform(code_test)\n",
    "X_train\n"
   ]
  },
  {
   "cell_type": "code",
   "execution_count": 53,
   "metadata": {},
   "outputs": [
    {
     "name": "stderr",
     "output_type": "stream",
     "text": [
      "/usr/local/lib/python3.6/dist-packages/sklearn/linear_model/logistic.py:432: FutureWarning: Default solver will be changed to 'lbfgs' in 0.22. Specify a solver to silence this warning.\n",
      "  FutureWarning)\n"
     ]
    },
    {
     "name": "stdout",
     "output_type": "stream",
     "text": [
      "Accuracy: 0.48420399502716266\n"
     ]
    }
   ],
   "source": [
    "from sklearn.linear_model import LogisticRegression\n",
    "\n",
    "model = LogisticRegression()\n",
    "model.fit(X_train, y_train)\n",
    "score = model.score(X_test, y_test)\n",
    "\n",
    "print(\"Accuracy:\", score)"
   ]
  },
  {
   "cell_type": "code",
   "execution_count": null,
   "metadata": {},
   "outputs": [],
   "source": []
  }
 ],
 "metadata": {
  "colab": {
   "name": "Code classification",
   "provenance": []
  },
  "kernelspec": {
   "display_name": "Python 3",
   "language": "python",
   "name": "python3"
  },
  "language_info": {
   "codemirror_mode": {
    "name": "ipython",
    "version": 3
   },
   "file_extension": ".py",
   "mimetype": "text/x-python",
   "name": "python",
   "nbconvert_exporter": "python",
   "pygments_lexer": "ipython3",
   "version": "3.6.8"
  }
 },
 "nbformat": 4,
 "nbformat_minor": 1
}
